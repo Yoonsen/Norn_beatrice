{
 "cells": [
  {
   "cell_type": "code",
   "execution_count": 1,
   "metadata": {},
   "outputs": [],
   "source": [
    "import pandas as pd"
   ]
  },
  {
   "cell_type": "code",
   "execution_count": 13,
   "metadata": {},
   "outputs": [],
   "source": [
    "c = pd.read_excel(\"Beatrice_korpus.xlsx\", index_col=0)"
   ]
  },
  {
   "cell_type": "code",
   "execution_count": 15,
   "metadata": {},
   "outputs": [
    {
     "data": {
      "text/html": [
       "<div>\n",
       "<style scoped>\n",
       "    .dataframe tbody tr th:only-of-type {\n",
       "        vertical-align: middle;\n",
       "    }\n",
       "\n",
       "    .dataframe tbody tr th {\n",
       "        vertical-align: top;\n",
       "    }\n",
       "\n",
       "    .dataframe thead th {\n",
       "        text-align: right;\n",
       "    }\n",
       "</style>\n",
       "<table border=\"1\" class=\"dataframe\">\n",
       "  <thead>\n",
       "    <tr style=\"text-align: right;\">\n",
       "      <th></th>\n",
       "      <th>urn</th>\n",
       "      <th>dhlabid</th>\n",
       "      <th>title</th>\n",
       "      <th>authors</th>\n",
       "      <th>oaiid</th>\n",
       "      <th>sesamid</th>\n",
       "      <th>isbn10</th>\n",
       "      <th>city</th>\n",
       "      <th>timestamp</th>\n",
       "      <th>year</th>\n",
       "      <th>publisher</th>\n",
       "      <th>langs</th>\n",
       "      <th>subjects</th>\n",
       "      <th>ddc</th>\n",
       "      <th>genres</th>\n",
       "      <th>literaryform</th>\n",
       "      <th>doctype</th>\n",
       "      <th>ocr_creator</th>\n",
       "      <th>ocr_timestamp</th>\n",
       "    </tr>\n",
       "  </thead>\n",
       "  <tbody>\n",
       "  </tbody>\n",
       "</table>\n",
       "</div>"
      ],
      "text/plain": [
       "Empty DataFrame\n",
       "Columns: [urn, dhlabid, title, authors, oaiid, sesamid, isbn10, city, timestamp, year, publisher, langs, subjects, ddc, genres, literaryform, doctype, ocr_creator, ocr_timestamp]\n",
       "Index: []"
      ]
     },
     "execution_count": 15,
     "metadata": {},
     "output_type": "execute_result"
    }
   ],
   "source": [
    "c[c.title.str.contains(\"Lexikon\")] #.to_excel(\"Beatrice_korpus.xlsx\")"
   ]
  },
  {
   "cell_type": "code",
   "execution_count": null,
   "metadata": {},
   "outputs": [],
   "source": []
  }
 ],
 "metadata": {
  "kernelspec": {
   "display_name": "Python 3",
   "language": "python",
   "name": "python3"
  },
  "language_info": {
   "codemirror_mode": {
    "name": "ipython",
    "version": 3
   },
   "file_extension": ".py",
   "mimetype": "text/x-python",
   "name": "python",
   "nbconvert_exporter": "python",
   "pygments_lexer": "ipython3",
   "version": "3.11.9"
  }
 },
 "nbformat": 4,
 "nbformat_minor": 2
}
